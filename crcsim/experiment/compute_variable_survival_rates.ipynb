{
 "cells": [
  {
   "cell_type": "markdown",
   "metadata": {},
   "source": [
    "# Computing variable survival rates by demographic group\n",
    "\n",
    "## Goal\n",
    "\n",
    "Given a five-year CRC survival rate, compute the mean of the exponential distribution with that survival rate.\n",
    "\n",
    "When time to death has an exponential distribution, there is a mathematical relationship between the survival rate and the mean of the distribution:\n",
    "```\n",
    "μ = -n / ln(P(t > n))\n",
    "```\n",
    "Where `μ` is the mean of the exponential distribution, `n` is the time at which survival is assessed (e.g., 5 for a 5-year survival rate), and `P(t > n)` is the survival rate. \n",
    "\n",
    "We will take advantage of this relationship to calculate model parameters `mean_duration_clin*_dead` directly, rather than calibrating them to survival rates as in the past. This will enable us to quickly calculate survival rates separately for various demographic groups, and parameterize the model to account for cohort demographics in its simulation of CRC survival."
   ]
  },
  {
   "cell_type": "code",
   "execution_count": null,
   "metadata": {},
   "outputs": [],
   "source": [
    "import json\n",
    "import shutil\n",
    "from copy import deepcopy\n",
    "\n",
    "import numpy as np"
   ]
  },
  {
   "cell_type": "code",
   "execution_count": 2,
   "metadata": {},
   "outputs": [],
   "source": [
    "def mean_dist_from_surv_rate(surv_rate: float, at_year: int) -> float:\n",
    "    \"\"\"\n",
    "    Calculates the mean of an exponential distribution with the survival rate surv_rate at year at_year.\n",
    "\n",
    "    When time to death has an exponential distribution, there is a mathematical relationship between the\n",
    "    survival rate and the mean of the distribution:\n",
    "\n",
    "    μ = -n / ln(P(t > n))\n",
    "\n",
    "    Where `μ` is the mean of the exponential distribution, `n` is the time at which survival is assessed\n",
    "    (e.g., 5 for a 5-year survival rate), and `P(t > n)` is the survival rate. \n",
    "\n",
    "    Parameters\n",
    "    ----------\n",
    "    surv_rate : float\n",
    "        The survival rate at year `at_year`.\n",
    "    at_year : int\n",
    "        The year at which the survival rate is assessed.\n",
    "   \n",
    "    Returns\n",
    "    -------\n",
    "    float\n",
    "        The mean of the exponential distribution.\n",
    "    \"\"\"\n",
    "    return -1 * at_year / np.log(surv_rate)"
   ]
  },
  {
   "cell_type": "markdown",
   "metadata": {},
   "source": [
    "## Approach\n",
    "\n",
    "This notebook uses the final approach described in `survival_rate_adjustment.ipynb`. In that notebook, we explored various ways to do this. Here, we implement the final approach of calculating the time-to-CRC-death distribution means directly from relative survival rates. That avoids the complexity of using overall survival rates and death tables.  \n",
    "\n",
    "## Step 1: population-level\n",
    "\n",
    "Before we calculate time-to-CRC-death distribution means by demographic group, we'll use the same approach to calculate them for the overall population.\n",
    "\n",
    "From the exploration in Step 6 of `survival_rate_adjustment.ipynb`, we know that this approach will lead to smaller distribution means, and therefore more CRC death, than the calibration approach. This is probably due to the dynamic explored in Step 5 of that notebook, which shows that our calibration approach underestimates CRC death.\n",
    "\n",
    "So first, we'll compare the values calculated here to the calibrated values in an experiment. By isolating this change, we will learn how much difference this change makes on CRC death rates under various screening scenarios. "
   ]
  },
  {
   "cell_type": "code",
   "execution_count": 3,
   "metadata": {},
   "outputs": [],
   "source": [
    "# 5 Year Survival\n",
    "# Surveillance, Epidemiology, and End Results (SEER) Program (www.seer.cancer.gov) SEER*Stat Database: Incidence - SEER Research Data, 17 Registries, Nov 2023 Sub (2000-2021) - Linked To County Attributes - Time Dependent (1990-2022) Income/Rurality, 1969-2022 Counties, National Cancer Institute, DCCPS, Surveillance Research Program, released April 2024, based on the November 2023 submission.\t\t\t\t\t\t\t\t\t\n",
    "# Includes Cases Diagnosed in 2013-2019\n",
    "\n",
    "relative_survival_rates = {\n",
    "    \"stage1\": 0.931,\n",
    "    \"stage2\": 0.851,\n",
    "    \"stage3\": 0.698,\n",
    "    \"stage4\": 0.137,\n",
    "}"
   ]
  },
  {
   "cell_type": "code",
   "execution_count": 4,
   "metadata": {},
   "outputs": [],
   "source": [
    "overall_dist_means = {k: mean_dist_from_surv_rate(v, 5) for k, v in relative_survival_rates.items()}"
   ]
  },
  {
   "cell_type": "code",
   "execution_count": 5,
   "metadata": {},
   "outputs": [],
   "source": [
    "with open(\"crcsim/experiment/parameters.json\") as f:\n",
    "    default_params = json.load(f)"
   ]
  },
  {
   "cell_type": "code",
   "execution_count": 6,
   "metadata": {},
   "outputs": [],
   "source": [
    "params_relative_survival = deepcopy(default_params)\n",
    "\n",
    "for stage in range(1, 5):\n",
    "    params_relative_survival[f'mean_duration_clin{stage}_dead'] = overall_dist_means[f'stage{stage}']"
   ]
  },
  {
   "cell_type": "code",
   "execution_count": 7,
   "metadata": {},
   "outputs": [],
   "source": [
    "with open(\"crcsim/experiment/parameters_relative_survival.json\", \"w\") as f:\n",
    "    json.dump(params_relative_survival, f, indent=2)"
   ]
  },
  {
   "cell_type": "markdown",
   "metadata": {},
   "source": [
    "# Step 2: by demographic group"
   ]
  },
  {
   "cell_type": "code",
   "execution_count": 8,
   "metadata": {},
   "outputs": [],
   "source": [
    "# 5 Year Survival\n",
    "# Surveillance, Epidemiology, and End Results (SEER) Program (www.seer.cancer.gov) SEER*Stat Database: Incidence - SEER Research Data, 17 Registries, Nov 2023 Sub (2000-2021) - Linked To County Attributes - Time Dependent (1990-2022) Income/Rurality, 1969-2022 Counties, National Cancer Institute, DCCPS, Surveillance Research Program, released April 2024, based on the November 2023 submission.\t\t\t\t\t\t\t\t\t\n",
    "# Includes Cases Diagnosed in 2013-2019\n",
    "\n",
    "relative_survival_rates_by_group = {\n",
    "    \"black_female\": {\n",
    "        \"stage1\": 0.911,\n",
    "        \"stage2\": 0.846,\n",
    "        \"stage3\": 0.678,\n",
    "        \"stage4\": 0.103,\n",
    "    },\n",
    "    \"black_male\": {\n",
    "        \"stage1\": 0.893,\n",
    "        \"stage2\": 0.800,\n",
    "        \"stage3\": 0.658,\n",
    "        \"stage4\": 0.102,\n",
    "    },\n",
    "    \"hispanic_female\": {\n",
    "        \"stage1\": 0.937,\n",
    "        \"stage2\": 0.845,\n",
    "        \"stage3\": 0.723,\n",
    "        \"stage4\": 0.162,\n",
    "    },\n",
    "    \"hispanic_male\": {\n",
    "        \"stage1\": 0.913,\n",
    "        \"stage2\": 0.829,\n",
    "        \"stage3\": 0.679,\n",
    "        \"stage4\": 0.147,\n",
    "    },\n",
    "    \"white_female\": {\n",
    "        \"stage1\": 0.931,\n",
    "        \"stage2\": 0.863,\n",
    "        \"stage3\": 0.695,\n",
    "        \"stage4\": 0.149,\n",
    "    },\n",
    "    \"white_male\": {\n",
    "        \"stage1\": 0.932,\n",
    "        \"stage2\": 0.848,\n",
    "        \"stage3\": 0.703,\n",
    "        \"stage4\": 0.130,\n",
    "    }\n",
    "}"
   ]
  },
  {
   "cell_type": "code",
   "execution_count": 9,
   "metadata": {},
   "outputs": [],
   "source": [
    "dist_means_by_group = {}\n",
    "\n",
    "for group, rates in relative_survival_rates_by_group.items():\n",
    "    dist_means_by_group[group] = {k: mean_dist_from_surv_rate(v, 5) for k, v in rates.items()}"
   ]
  },
  {
   "cell_type": "code",
   "execution_count": 10,
   "metadata": {},
   "outputs": [],
   "source": [
    "params_by_demog = deepcopy(default_params)"
   ]
  },
  {
   "cell_type": "code",
   "execution_count": 11,
   "metadata": {},
   "outputs": [],
   "source": [
    "# Remove the mean_duration_clin*_dead parameters for the overall population\n",
    "for stage in range(1, 5):\n",
    "    params_by_demog.pop(f\"mean_duration_clin{stage}_dead\")\n",
    "\n",
    "# Then add the demographic-specific parameters\n",
    "for group, dist_means in dist_means_by_group.items():\n",
    "    for stage in range(1, 5):\n",
    "        param_name = f\"mean_duration_clin{stage}_dead_{group}\"\n",
    "        params_by_demog[param_name] = dist_means[f'stage{stage}']"
   ]
  },
  {
   "cell_type": "code",
   "execution_count": 13,
   "metadata": {},
   "outputs": [],
   "source": [
    "with open(\"crcsim/experiment/parameters_by_demog.json\", \"w\") as f:\n",
    "    json.dump(params_by_demog, f, indent=2)"
   ]
  },
  {
   "cell_type": "markdown",
   "metadata": {},
   "source": [
    "## Preserving exact formatting\n",
    "\n",
    "Let's create functions that make targeted replacements to preserve the formatting of parameters.json."
   ]
  },
  {
   "cell_type": "code",
   "execution_count": null,
   "metadata": {},
   "outputs": [],
   "source": [
    "def create_relative_survival_params_file(values, output_file, template_file=\"crcsim/experiment/parameters.json\"):\n",
    "    \"\"\"\n",
    "    Create parameters_relative_survival.json by simply replacing the 4 mean_duration_clin*_dead values\n",
    "    while preserving the exact formatting.\n",
    "    \n",
    "    Parameters\n",
    "    ----------\n",
    "    values : dict\n",
    "        Dictionary containing the new mean_duration_clin*_dead values\n",
    "    output_file : str\n",
    "        Output file path\n",
    "    template_file : str, optional\n",
    "        Template file path, by default parameters.json\n",
    "    \"\"\"\n",
    "    # First, copy the template file to the output file\n",
    "    shutil.copyfile(template_file, output_file)\n",
    "    \n",
    "    # Read the output file\n",
    "    with open(output_file, 'r') as f:\n",
    "        lines = f.readlines()\n",
    "    \n",
    "    # Replace the mean_duration_clin*_dead values\n",
    "    for i, line in enumerate(lines):\n",
    "        for stage in range(1, 5):\n",
    "            pattern = f'\"mean_duration_clin{stage}_dead\":'\n",
    "            if pattern in line:\n",
    "                # Extract the parts before and after the value\n",
    "                before_value = line.split(':', 1)[0] + ': '\n",
    "                after_value = ',' if line.strip().endswith(',') else ''\n",
    "                \n",
    "                # Replace with the new value\n",
    "                new_value = values[f'stage{stage}']\n",
    "                lines[i] = f\"{before_value}{new_value}{after_value}\\n\"\n",
    "                break\n",
    "    \n",
    "    # Write the modified file\n",
    "    with open(output_file, 'w') as f:\n",
    "        f.writelines(lines)\n",
    "    \n",
    "    print(f\"Relative survival parameters written to {output_file} with formatting preserved\")"
   ]
  },
  {
   "cell_type": "code",
   "execution_count": 28,
   "metadata": {},
   "outputs": [],
   "source": [
    "def create_demographic_params_file(demo_values, output_file, template_file=\"crcsim/experiment/parameters.json\"):\n",
    "    \"\"\"\n",
    "    Create parameters_by_demog.json by replacing the mean_duration_clin*_dead parameters\n",
    "    with demographic-specific ones while preserving the exact formatting.\n",
    "    \n",
    "    Parameters\n",
    "    ----------\n",
    "    demo_values : dict\n",
    "        Dictionary of demographic group -> stage -> value\n",
    "    output_file : str\n",
    "        Output file path\n",
    "    template_file : str, optional\n",
    "        Template file path, by default parameters.json\n",
    "    \"\"\"\n",
    "    # First, copy the template file to the output file\n",
    "    shutil.copyfile(template_file, output_file)\n",
    "    \n",
    "    # Read the output file\n",
    "    with open(output_file, 'r') as f:\n",
    "        lines = f.readlines()\n",
    "    \n",
    "    # Step 1: Find the mean_duration_clin*_dead lines and their indentation\n",
    "    stage_lines = {}\n",
    "    indent = \"  \"\n",
    "    for i, line in enumerate(lines):\n",
    "        for stage in range(1, 5):\n",
    "            pattern = f'\"mean_duration_clin{stage}_dead\":'\n",
    "            if pattern in line:\n",
    "                stage_lines[stage] = i\n",
    "                # Extract indentation\n",
    "                indent = line[:len(line) - len(line.lstrip())]\n",
    "                break\n",
    "    \n",
    "    # Step 2: Replace the first stage with demographic parameters for all stages\n",
    "    if 1 in stage_lines:\n",
    "        # Get the index of the first stage line\n",
    "        first_line = stage_lines[1]\n",
    "        \n",
    "        # Create lines for the demographic parameters for all stages\n",
    "        demo_lines = []\n",
    "        groups = sorted(demo_values.keys())\n",
    "        \n",
    "        for stage in range(1, 5):\n",
    "            for group in groups:\n",
    "                param_name = f\"mean_duration_clin{stage}_dead_{group}\"\n",
    "                value = demo_values[group][f'stage{stage}']\n",
    "                # Add comma to all lines\n",
    "                demo_lines.append(f\"{indent}\\\"{param_name}\\\": {value},\\n\")\n",
    "        \n",
    "        # Remove the last comma from the last line if needed\n",
    "        if not lines[stage_lines[max(stage_lines.keys())]].strip().endswith(','):\n",
    "            demo_lines[-1] = demo_lines[-1].replace(',\\n', '\\n')\n",
    "        \n",
    "        # Replace all 4 stage lines with the demographic parameters\n",
    "        # Use the first line's position and remove the other 3\n",
    "        lines[first_line:first_line+1] = demo_lines\n",
    "        \n",
    "        # Remove all the old stage parameters (the indices will change after inserting new lines)\n",
    "        # So we need to rebuild the lines list and search again\n",
    "        output_text = ''.join(lines)\n",
    "        lines = output_text.split('\\n')\n",
    "        \n",
    "        # Find and remove each original mean_duration_clin*_dead parameter\n",
    "        # (working backward to avoid index issues)\n",
    "        for i in range(len(lines)-1, -1, -1):\n",
    "            line = lines[i]\n",
    "            if any(f'\"mean_duration_clin{stage}_dead\":' in line for stage in range(1, 5)):\n",
    "                lines.pop(i)\n",
    "        \n",
    "        output_text = '\\n'.join(lines)\n",
    "        \n",
    "    # Write the modified file\n",
    "    with open(output_file, 'w') as f:\n",
    "        f.write(output_text)\n",
    "    \n",
    "    print(f\"Demographic parameters written to {output_file} with formatting preserved\")"
   ]
  },
  {
   "cell_type": "code",
   "execution_count": 29,
   "metadata": {},
   "outputs": [
    {
     "name": "stdout",
     "output_type": "stream",
     "text": [
      "Relative survival parameters written to crcsim/experiment/parameters_relative_survival.json with formatting preserved\n"
     ]
    }
   ],
   "source": [
    "# Create the relative survival parameters file\n",
    "create_relative_survival_params_file(overall_dist_means, \"crcsim/experiment/parameters_relative_survival.json\")"
   ]
  },
  {
   "cell_type": "code",
   "execution_count": 30,
   "metadata": {},
   "outputs": [
    {
     "name": "stdout",
     "output_type": "stream",
     "text": [
      "Demographic parameters written to crcsim/experiment/parameters_by_demog.json with formatting preserved\n"
     ]
    }
   ],
   "source": [
    "# Create the demographic parameters file\n",
    "create_demographic_params_file(dist_means_by_group, \"crcsim/experiment/parameters_by_demog.json\")"
   ]
  },
  {
   "cell_type": "code",
   "execution_count": null,
   "metadata": {},
   "outputs": [],
   "source": []
  }
 ],
 "metadata": {
  "kernelspec": {
   "display_name": "crcsim",
   "language": "python",
   "name": "python3"
  },
  "language_info": {
   "codemirror_mode": {
    "name": "ipython",
    "version": 3
   },
   "file_extension": ".py",
   "mimetype": "text/x-python",
   "name": "python",
   "nbconvert_exporter": "python",
   "pygments_lexer": "ipython3",
   "version": "3.11.5"
  }
 },
 "nbformat": 4,
 "nbformat_minor": 2
}
