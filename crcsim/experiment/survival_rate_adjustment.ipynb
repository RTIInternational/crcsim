{
 "cells": [
  {
   "cell_type": "raw",
   "metadata": {
    "vscode": {
     "languageId": "raw"
    }
   },
   "source": [
    "---\n",
    "title: Adjusting CRC survival rates by demographic group\n",
    "author: Sandy Preiss\n",
    "date: 'December 27, 2024'\n",
    "format:\n",
    "    html:\n",
    "        toc: true\n",
    "        toc-location: right\n",
    "        code-fold: true\n",
    "    pdf:\n",
    "        toc: true\n",
    "        documentclass: report\n",
    "---"
   ]
  },
  {
   "cell_type": "markdown",
   "metadata": {},
   "source": [
    "In addition to the test pattern functionality that the experiment in this branch explores, this notebook explores another potential novel usage of the model parameters: adjusting the CRC survival rate for different demographic groups.\n",
    "\n",
    "Some of the scenarios we want to simulate in the future involve differing CRC burdens among demographic groups. One of those differences is that black populations have lower CRC survival rates than white populations. We want to be able to account for such differences in simulations, but the model currently uses a single set of parameters controlling CRC survival. \n",
    "\n",
    "```\n",
    "\"mean_duration_clin1_dead\": 135,\n",
    "\"mean_duration_clin2_dead\": 51,\n",
    "\"mean_duration_clin3_dead\": 19,\n",
    "\"mean_duration_clin4_dead\": 2.7,\n",
    "```\n",
    "When an agent is diagnosed with clinical CRC, the time to their CRC death event is drawn from an exponential distribution. These parameters, along with the cancer's stage at diagnosis, control the mean of those distributions.\n",
    "\n",
    "The purpose of this notebook is to determine whether we can alter those parameters to attain given 5-year CRC survival rates by stage without recalibration. When time to death has an exponential distribution, there is a mathematical relationship between the survival rate and the mean of the distribution:\n",
    "```\n",
    "μ = -n / ln(P(t > n))\n",
    "```\n",
    "Where `μ` is the mean of the exponential distribution, `n` is the time at which survival is assessed (e.g., 5 for a 5-year survival rate), and `P(t > n)` is the survival rate. \n",
    "\n",
    "We want to see if this relationship actually holds between our `mean_duration_clin*_dead` parameters and survival rates in the simulations.\n"
   ]
  },
  {
   "cell_type": "markdown",
   "metadata": {},
   "source": [
    "## Step 1: simplest test\n",
    "\n",
    "When we solve for time-to-death distribution means using observed survival rates from a simulation run, how close are the results to the `mean_duration_clin*_dead` parameters used in those runs?\n",
    "\n",
    "Not very. \n",
    "\n",
    "This is because survival rates are partly determined by non-CRC death.\n",
    "\n",
    "The higher the stage, the greater the proportion of deaths due to CRC. So the higher the stage, the closer time-to-death distribution mean is to the `mean_duration_clin*_dead` parameter.\n",
    "\n",
    "We need to account for non-CRC deaths for this to have any hope of working."
   ]
  },
  {
   "cell_type": "code",
   "execution_count": 2,
   "metadata": {},
   "outputs": [],
   "source": [
    "import json\n",
    "\n",
    "import numpy as np"
   ]
  },
  {
   "cell_type": "code",
   "execution_count": 3,
   "metadata": {},
   "outputs": [],
   "source": [
    "# read parameters.json\n",
    "with open(\"parameters.json\") as f:\n",
    "    params = json.load(f)"
   ]
  },
  {
   "cell_type": "code",
   "execution_count": 4,
   "metadata": {},
   "outputs": [],
   "source": [
    "# Simulated survival rates from the no screening, no IRR scenario of crcsim-exp-replicate-on-impl-aws\n",
    "\n",
    "simulated_survival_rates = {\n",
    "    \"stage1\": 0.7427,\n",
    "    \"stage2\": 0.6927,\n",
    "    \"stage3\": 0.5775,\n",
    "    \"stage4\": 0.1165,\n",
    "}"
   ]
  },
  {
   "cell_type": "code",
   "execution_count": 5,
   "metadata": {},
   "outputs": [],
   "source": [
    "def mean_dist_from_surv_rate(surv_rate, at_year):\n",
    "    return -1 * at_year / np.log(surv_rate)"
   ]
  },
  {
   "cell_type": "code",
   "execution_count": 6,
   "metadata": {},
   "outputs": [
    {
     "name": "stdout",
     "output_type": "stream",
     "text": [
      "Stage 1\n",
      "Simulated mean: 16.80880843298729\n",
      "Actual mean: 135\n",
      "Ratio: 0.12450969209620216\n",
      "\n",
      "Stage 2\n",
      "Simulated mean: 13.61810520068025\n",
      "Actual mean: 51\n",
      "Ratio: 0.2670216706015735\n",
      "\n",
      "Stage 3\n",
      "Simulated mean: 9.10669120887487\n",
      "Actual mean: 19\n",
      "Ratio: 0.4792995373092037\n",
      "\n",
      "Stage 4\n",
      "Simulated mean: 2.3257285047335827\n",
      "Actual mean: 2.7\n",
      "Ratio: 0.8613809276791047\n",
      "\n"
     ]
    }
   ],
   "source": [
    "for stage in [1, 2, 3, 4]:\n",
    "    print(f\"Stage {stage}\")\n",
    "    simulated_mean = mean_dist_from_surv_rate(\n",
    "        simulated_survival_rates[f\"stage{stage}\"], 5\n",
    "    )\n",
    "    print(\"Simulated mean:\", simulated_mean)\n",
    "    actual_mean = params[f\"mean_duration_clin{stage}_dead\"]\n",
    "    print(\"Actual mean:\", actual_mean)\n",
    "    print(\"Ratio:\", simulated_mean / actual_mean)\n",
    "    print(\"\")"
   ]
  },
  {
   "cell_type": "markdown",
   "metadata": {},
   "source": [
    "## Step 2: Account for non-CRC deaths using simulation output\n",
    "\n",
    "The overall survival function is the product of the CRC survival function and the non-CRC survival function.\n",
    "\n",
    "So if we can account for non-CRC deaths, we can compute the CRC survival function and the corresponding mean of the time to CRC death distribution.\n",
    "\n",
    "The easiest way to accomplish this uses the simulation output. We know each agent's expected lifespan, which we use to compute the non-CRC survival function. Then, we combine that with the simulated overall five-year survival rate to get the CRC survival function. \n",
    "\n",
    "This works pretty well. The means we get from this method are off by a few percent from the ones used in simulation parameters, but it's within the realm of random variance. I'll eventually try this using output from more runs to see if it gets us closer."
   ]
  },
  {
   "cell_type": "code",
   "execution_count": 7,
   "metadata": {},
   "outputs": [],
   "source": [
    "import pandas as pd"
   ]
  },
  {
   "cell_type": "code",
   "execution_count": 8,
   "metadata": {},
   "outputs": [],
   "source": [
    "outputs = []\n",
    "\n",
    "# just using a few runs for expedience\n",
    "for iteration in range(10):\n",
    "    iteration_name = f\"{iteration:03}\"\n",
    "\n",
    "    df = pd.read_csv(\n",
    "        f\"s3://crcsim-crccp-recalibrated-v2/scenarios/no_screening/output_{iteration_name}.csv\"\n",
    "    )\n",
    "    df[\"iteration\"] = iteration\n",
    "\n",
    "    outputs.append(df)\n",
    "\n",
    "output_df = pd.concat(outputs, axis=\"index\")"
   ]
  },
  {
   "cell_type": "code",
   "execution_count": 9,
   "metadata": {},
   "outputs": [],
   "source": [
    "crc_onsets = output_df[output_df[\"message\"] == \"CLINICAL_ONSET\"][\n",
    "    [\"iteration\", \"person_id\", \"time\", \"new_state\"]\n",
    "].rename(columns={\"time\": \"onset_time\", \"new_state\": \"stage_at_diagnosis\"})"
   ]
  },
  {
   "cell_type": "code",
   "execution_count": 10,
   "metadata": {},
   "outputs": [],
   "source": [
    "lifespans = output_df[output_df[\"record_type\"] == \"lifespan\"][\n",
    "    [\"iteration\", \"person_id\", \"time\"]\n",
    "].rename(columns={\"time\": \"lifespan\"})"
   ]
  },
  {
   "cell_type": "code",
   "execution_count": 11,
   "metadata": {},
   "outputs": [],
   "source": [
    "deaths = output_df[output_df[\"message\"].isin([\"OTHER_DEATH\", \"CRC_DEATH\"])][\n",
    "    [\"iteration\", \"person_id\", \"time\", \"message\"]\n",
    "].rename(columns={\"time\": \"death_time\", \"message\": \"death_type\"})"
   ]
  },
  {
   "cell_type": "code",
   "execution_count": 12,
   "metadata": {},
   "outputs": [],
   "source": [
    "crc_survival_df = crc_onsets.merge(\n",
    "    lifespans, on=[\"iteration\", \"person_id\"], how=\"left\"\n",
    ").merge(deaths, on=[\"iteration\", \"person_id\"], how=\"left\")"
   ]
  },
  {
   "cell_type": "code",
   "execution_count": 13,
   "metadata": {},
   "outputs": [],
   "source": [
    "crc_survival_df[\"survival_time\"] = (\n",
    "    crc_survival_df[\"death_time\"] - crc_survival_df[\"onset_time\"]\n",
    ")\n",
    "crc_survival_df[\"five_year_survival\"] = crc_survival_df[\"survival_time\"] > 5\n",
    "crc_survival_df[\"non_crc_survival_time\"] = (\n",
    "    crc_survival_df[\"lifespan\"] - crc_survival_df[\"onset_time\"]\n",
    ")\n",
    "crc_survival_df[\"non_crc_five_year_survival\"] = (\n",
    "    crc_survival_df[\"non_crc_survival_time\"] > 5\n",
    ")"
   ]
  },
  {
   "cell_type": "code",
   "execution_count": 14,
   "metadata": {},
   "outputs": [],
   "source": [
    "non_crc_survival_rates = (\n",
    "    crc_survival_df.groupby(\"stage_at_diagnosis\")[\"non_crc_five_year_survival\"]\n",
    "    .mean()\n",
    "    .to_frame()\n",
    ")"
   ]
  },
  {
   "cell_type": "code",
   "execution_count": 15,
   "metadata": {},
   "outputs": [],
   "source": [
    "non_crc_survival_rates[\"simulated_survival\"] = list(simulated_survival_rates.values())"
   ]
  },
  {
   "cell_type": "code",
   "execution_count": 16,
   "metadata": {},
   "outputs": [],
   "source": [
    "# Total survival rate is the product of CRC survival rate and non-CRC survival rate\n",
    "\n",
    "non_crc_survival_rates[\"crc_five_year_survival\"] = (\n",
    "    non_crc_survival_rates[\"simulated_survival\"]\n",
    "    / non_crc_survival_rates[\"non_crc_five_year_survival\"]\n",
    ")"
   ]
  },
  {
   "cell_type": "code",
   "execution_count": 17,
   "metadata": {},
   "outputs": [
    {
     "name": "stdout",
     "output_type": "stream",
     "text": [
      "CLINICAL_STAGE1\n",
      "Simulated mean: 137.14896932307119\n",
      "Actual mean: 135\n",
      "Ratio: 1.0159182912820088\n",
      "\n",
      "CLINICAL_STAGE2\n",
      "Simulated mean: 49.75101611733958\n",
      "Actual mean: 51\n",
      "Ratio: 0.975510119947835\n",
      "\n",
      "CLINICAL_STAGE3\n",
      "Simulated mean: 18.138561963703214\n",
      "Actual mean: 19\n",
      "Ratio: 0.9546611559843797\n",
      "\n",
      "CLINICAL_STAGE4\n",
      "Simulated mean: 2.699679333139679\n",
      "Actual mean: 2.7\n",
      "Ratio: 0.9998812344961774\n",
      "\n"
     ]
    }
   ],
   "source": [
    "for index, row in non_crc_survival_rates.reset_index().iterrows():\n",
    "    print(row[\"stage_at_diagnosis\"])\n",
    "    simulated_mean = mean_dist_from_surv_rate(row[\"crc_five_year_survival\"], 5)\n",
    "    print(\"Simulated mean:\", simulated_mean)\n",
    "    actual_mean = params[f\"mean_duration_clin{index + 1}_dead\"]\n",
    "    print(\"Actual mean:\", actual_mean)\n",
    "    print(\"Ratio:\", simulated_mean / actual_mean)\n",
    "    print(\"\")"
   ]
  },
  {
   "cell_type": "markdown",
   "metadata": {},
   "source": [
    "To adjust simulation params to match a different survival rate, we could treat non-CRC survival rate as a constant.\n",
    "\n",
    "Then we'd find the CRC survival rate that would give us the desired total survival rate.\n",
    "\n",
    "Finally, we'd find the mean of the time to death distribution that would give us the desired overall survival rate.\n",
    "\n",
    "Eg:"
   ]
  },
  {
   "cell_type": "code",
   "execution_count": 18,
   "metadata": {},
   "outputs": [
    {
     "name": "stdout",
     "output_type": "stream",
     "text": [
      "stage_at_diagnosis\n",
      "CLINICAL_STAGE1    42.748904\n",
      "CLINICAL_STAGE2    29.689019\n",
      "CLINICAL_STAGE3    13.767720\n",
      "CLINICAL_STAGE4     2.581565\n",
      "Name: new_mean, dtype: float64\n"
     ]
    }
   ],
   "source": [
    "non_crc_survival_rates[\"new_survival_rate\"] = non_crc_survival_rates[\n",
    "    \"simulated_survival\"\n",
    "] * np.random.uniform(0.9, 0.95, 4)\n",
    "\n",
    "non_crc_survival_rates[\"new_crc_five_year_survival\"] = (\n",
    "    non_crc_survival_rates[\"new_survival_rate\"]\n",
    "    / non_crc_survival_rates[\"non_crc_five_year_survival\"]\n",
    ")\n",
    "\n",
    "non_crc_survival_rates[\"new_mean\"] = non_crc_survival_rates[\n",
    "    \"new_crc_five_year_survival\"\n",
    "].apply(lambda x: mean_dist_from_surv_rate(x, 5))\n",
    "print(non_crc_survival_rates[\"new_mean\"])"
   ]
  },
  {
   "cell_type": "markdown",
   "metadata": {},
   "source": [
    "Small differences in overall survival can lead to large differences in mean time to CRC death, because most deaths are from other causes.\n",
    "\n",
    "To make this adjustment realistic, we'd also need to account for the differences in non-CRC death rates across the demographic groups we want to simulate. Eg, if African-Americans have a lower CRC survival rate, they probably also have a lower non-CRC survival rate. We don't want to make CRC account for all of the difference. "
   ]
  },
  {
   "cell_type": "markdown",
   "metadata": {},
   "source": [
    "## Step 3: Account for non-CRC deaths using death rate params\n",
    "\n",
    "Death rates by age are part of the simulation parameters. Thus far, we've always used cohorts that have a mix of sexes and races/ethnicities. But to simulate different demographic groups, we could also adjust the cohort so it reflects the death rates of the given group. \n",
    "\n",
    "First, we'll try finding the non-CRC death rate from death rate params and comparing it to observed non-CRC death rates. "
   ]
  },
  {
   "cell_type": "markdown",
   "metadata": {},
   "source": [
    "### Step 3.1\n",
    "\n",
    "This whole chunk is just to get overall death rate params for the mix of demographic groups in the cohort."
   ]
  },
  {
   "cell_type": "code",
   "execution_count": null,
   "metadata": {},
   "outputs": [],
   "source": [
    "import csv\n",
    "\n",
    "from crcsim.enums import RaceEthnicity, Sex"
   ]
  },
  {
   "cell_type": "code",
   "execution_count": 20,
   "metadata": {},
   "outputs": [],
   "source": [
    "with open(\"crcsim/experiment/cohort.csv\", mode=\"r\") as input:\n",
    "    cohort = csv.DictReader(input)\n",
    "\n",
    "    population = {\n",
    "        \"black_female\": 0,\n",
    "        \"black_male\": 0,\n",
    "        \"white_female\": 0,\n",
    "        \"white_male\": 0,\n",
    "    }\n",
    "\n",
    "    # Logic from agent.Person\n",
    "    for person in cohort:\n",
    "        sex = Sex(person[\"sex\"])\n",
    "        race_ethnicity = RaceEthnicity(person[\"race_ethnicity\"])\n",
    "\n",
    "        # Find the appropriate death rate table. We don't have separate tables\n",
    "        # for all combinations of sex and race_ethnicity, so we'll need to do\n",
    "        # some imperfect combining of categories.\n",
    "        if sex == Sex.FEMALE:\n",
    "            if race_ethnicity == RaceEthnicity.WHITE_NON_HISPANIC:\n",
    "                population[\"white_female\"] += 1\n",
    "            elif race_ethnicity in (\n",
    "                RaceEthnicity.HISPANIC,\n",
    "                RaceEthnicity.BLACK_NON_HISPANIC,\n",
    "                RaceEthnicity.OTHER_NON_HISPANIC,\n",
    "            ):\n",
    "                population[\"black_female\"] += 1\n",
    "            else:\n",
    "                raise ValueError(f\"Unexpected race/ethnicity value: {race_ethnicity}\")\n",
    "        elif sex in (Sex.MALE, Sex.OTHER):\n",
    "            if race_ethnicity == RaceEthnicity.WHITE_NON_HISPANIC:\n",
    "                population[\"white_male\"] += 1\n",
    "            elif race_ethnicity in (\n",
    "                RaceEthnicity.HISPANIC,\n",
    "                RaceEthnicity.BLACK_NON_HISPANIC,\n",
    "                RaceEthnicity.OTHER_NON_HISPANIC,\n",
    "            ):\n",
    "                population[\"black_male\"] += 1\n",
    "            else:\n",
    "                raise ValueError(f\"Unexpected race/ethnicity value: {race_ethnicity}\")\n",
    "        else:\n",
    "            raise ValueError(f\"Unexpected sex value: {sex}\")"
   ]
  },
  {
   "cell_type": "code",
   "execution_count": 21,
   "metadata": {},
   "outputs": [],
   "source": [
    "total_population = sum(population.values())\n",
    "pop_proportions = {k: v / total_population for k, v in population.items()}"
   ]
  },
  {
   "cell_type": "code",
   "execution_count": 22,
   "metadata": {},
   "outputs": [],
   "source": [
    "death_rates = {\n",
    "    \"black_female\": params[\"death_rate_black_female_rates\"],\n",
    "    \"black_male\": params[\"death_rate_black_male_rates\"],\n",
    "    \"white_female\": params[\"death_rate_white_female_rates\"],\n",
    "    \"white_male\": params[\"death_rate_white_male_rates\"],\n",
    "}"
   ]
  },
  {
   "cell_type": "code",
   "execution_count": 23,
   "metadata": {},
   "outputs": [],
   "source": [
    "adjusted_death_rates = {\n",
    "    k: np.array(v) * pop_proportions[k] for k, v in death_rates.items()\n",
    "}"
   ]
  },
  {
   "cell_type": "code",
   "execution_count": 24,
   "metadata": {},
   "outputs": [],
   "source": [
    "pop_death_rates = np.sum(list(adjusted_death_rates.values()), axis=0)"
   ]
  },
  {
   "cell_type": "markdown",
   "metadata": {},
   "source": [
    "### Step 3.2\n",
    "\n",
    "Now we need the distribution of CRC onsets by stage by age. We'll have to hold this constant for now, although it probably varies by demographic group too. "
   ]
  },
  {
   "cell_type": "code",
   "execution_count": 25,
   "metadata": {},
   "outputs": [],
   "source": [
    "def get_onset_distributions(df: pd.DataFrame, max_year: int = 100):\n",
    "    year_bins = np.arange(max_year + 1)\n",
    "    stage_distributions = {}\n",
    "    stages = df[\"stage_at_diagnosis\"].unique()\n",
    "\n",
    "    for stage in stages:\n",
    "        stage_data = df[df[\"stage_at_diagnosis\"] == stage][\"onset_time\"]\n",
    "        hist, _ = np.histogram(stage_data, bins=year_bins)\n",
    "        proportions = hist / len(stage_data)\n",
    "        stage_distributions[stage] = proportions\n",
    "\n",
    "    return stage_distributions"
   ]
  },
  {
   "cell_type": "code",
   "execution_count": 26,
   "metadata": {},
   "outputs": [],
   "source": [
    "onset_distributions = get_onset_distributions(crc_survival_df)"
   ]
  },
  {
   "cell_type": "markdown",
   "metadata": {},
   "source": [
    "### Step 3.3\n",
    "\n",
    "Next, we calculate the five-year non-CRC survival function for each year."
   ]
  },
  {
   "cell_type": "code",
   "execution_count": 27,
   "metadata": {},
   "outputs": [],
   "source": [
    "def n_year_survival(n: int, death_rates: np.ndarray) -> np.ndarray:\n",
    "    \"\"\"Calculate the n-year survival rate for a given array of yearly death rates.\n",
    "\n",
    "    Args:\n",
    "        n (int): number of years\n",
    "        death_rates (np.ndarray): array of yearly death rates\n",
    "\n",
    "    Returns:\n",
    "        np.ndarray: for each year in death_rates, the probability of surviving n years\n",
    "    \"\"\"\n",
    "    # Pad the death rate array so we get values for the full len(death_rates) years\n",
    "    # Without padding, sliding_window_view stops when there are fewer than n elements left\n",
    "    padded_death_rates = np.pad(death_rates, (0, n - 2), constant_values=0)\n",
    "    # TODO: I think the window for each year should be i+1:i+n+1, not i:i+n\n",
    "    survival_matrix = np.lib.stride_tricks.sliding_window_view(\n",
    "        padded_death_rates, window_shape=n\n",
    "    )\n",
    "    return np.prod(1 - survival_matrix, axis=1)"
   ]
  },
  {
   "cell_type": "code",
   "execution_count": 28,
   "metadata": {},
   "outputs": [],
   "source": [
    "five_year_non_crc_survival_rates = n_year_survival(5, pop_death_rates)"
   ]
  },
  {
   "cell_type": "markdown",
   "metadata": {},
   "source": [
    "### Step 3.4 \n",
    "\n",
    "Finally, we weight the five-year survival functions by the distributions of CRC onset ages to get five-year non-CRC survival rates by stage of CRC onset."
   ]
  },
  {
   "cell_type": "code",
   "execution_count": 29,
   "metadata": {},
   "outputs": [],
   "source": [
    "non_crc_survival_overall = {\n",
    "    stage: (onset_distributions[stage] * five_year_non_crc_survival_rates).sum()\n",
    "    for stage in onset_distributions\n",
    "}"
   ]
  },
  {
   "cell_type": "code",
   "execution_count": 30,
   "metadata": {},
   "outputs": [],
   "source": [
    "non_crc_survival_rates[\"computed_non_crc_five_year_survival\"] = (\n",
    "    non_crc_survival_rates.index.map(non_crc_survival_overall)\n",
    ")"
   ]
  },
  {
   "cell_type": "code",
   "execution_count": 31,
   "metadata": {},
   "outputs": [],
   "source": [
    "non_crc_survival_rates[\"non_crc_five_year_survival_ratio\"] = (\n",
    "    non_crc_survival_rates[\"non_crc_five_year_survival\"]\n",
    "    / non_crc_survival_rates[\"computed_non_crc_five_year_survival\"]\n",
    ")"
   ]
  },
  {
   "cell_type": "code",
   "execution_count": 32,
   "metadata": {},
   "outputs": [
    {
     "data": {
      "application/vnd.microsoft.datawrangler.viewer.v0+json": {
       "columns": [
        {
         "name": "stage_at_diagnosis",
         "rawType": "object",
         "type": "string"
        },
        {
         "name": "non_crc_five_year_survival",
         "rawType": "float64",
         "type": "float"
        },
        {
         "name": "computed_non_crc_five_year_survival",
         "rawType": "float64",
         "type": "float"
        },
        {
         "name": "non_crc_five_year_survival_ratio",
         "rawType": "float64",
         "type": "float"
        }
       ],
       "conversionMethod": "pd.DataFrame",
       "ref": "05e2bed3-f17e-4256-bbd1-3c90d7e5499f",
       "rows": [
        [
         "CLINICAL_STAGE1",
         "0.770276008492569",
         "0.7778232308939725",
         "0.9902969953819337"
        ],
        [
         "CLINICAL_STAGE2",
         "0.7659351188575079",
         "0.768887783277248",
         "0.9961598239899782"
        ],
        [
         "CLINICAL_STAGE3",
         "0.7607952386982398",
         "0.7612188445712099",
         "0.999443516308101"
        ],
        [
         "CLINICAL_STAGE4",
         "0.7424556120208294",
         "0.7499765462552078",
         "0.9899717740882271"
        ]
       ],
       "shape": {
        "columns": 3,
        "rows": 4
       }
      },
      "text/html": [
       "<div>\n",
       "<style scoped>\n",
       "    .dataframe tbody tr th:only-of-type {\n",
       "        vertical-align: middle;\n",
       "    }\n",
       "\n",
       "    .dataframe tbody tr th {\n",
       "        vertical-align: top;\n",
       "    }\n",
       "\n",
       "    .dataframe thead th {\n",
       "        text-align: right;\n",
       "    }\n",
       "</style>\n",
       "<table border=\"1\" class=\"dataframe\">\n",
       "  <thead>\n",
       "    <tr style=\"text-align: right;\">\n",
       "      <th></th>\n",
       "      <th>non_crc_five_year_survival</th>\n",
       "      <th>computed_non_crc_five_year_survival</th>\n",
       "      <th>non_crc_five_year_survival_ratio</th>\n",
       "    </tr>\n",
       "    <tr>\n",
       "      <th>stage_at_diagnosis</th>\n",
       "      <th></th>\n",
       "      <th></th>\n",
       "      <th></th>\n",
       "    </tr>\n",
       "  </thead>\n",
       "  <tbody>\n",
       "    <tr>\n",
       "      <th>CLINICAL_STAGE1</th>\n",
       "      <td>0.770276</td>\n",
       "      <td>0.777823</td>\n",
       "      <td>0.990297</td>\n",
       "    </tr>\n",
       "    <tr>\n",
       "      <th>CLINICAL_STAGE2</th>\n",
       "      <td>0.765935</td>\n",
       "      <td>0.768888</td>\n",
       "      <td>0.996160</td>\n",
       "    </tr>\n",
       "    <tr>\n",
       "      <th>CLINICAL_STAGE3</th>\n",
       "      <td>0.760795</td>\n",
       "      <td>0.761219</td>\n",
       "      <td>0.999444</td>\n",
       "    </tr>\n",
       "    <tr>\n",
       "      <th>CLINICAL_STAGE4</th>\n",
       "      <td>0.742456</td>\n",
       "      <td>0.749977</td>\n",
       "      <td>0.989972</td>\n",
       "    </tr>\n",
       "  </tbody>\n",
       "</table>\n",
       "</div>"
      ],
      "text/plain": [
       "                    non_crc_five_year_survival  \\\n",
       "stage_at_diagnosis                               \n",
       "CLINICAL_STAGE1                       0.770276   \n",
       "CLINICAL_STAGE2                       0.765935   \n",
       "CLINICAL_STAGE3                       0.760795   \n",
       "CLINICAL_STAGE4                       0.742456   \n",
       "\n",
       "                    computed_non_crc_five_year_survival  \\\n",
       "stage_at_diagnosis                                        \n",
       "CLINICAL_STAGE1                                0.777823   \n",
       "CLINICAL_STAGE2                                0.768888   \n",
       "CLINICAL_STAGE3                                0.761219   \n",
       "CLINICAL_STAGE4                                0.749977   \n",
       "\n",
       "                    non_crc_five_year_survival_ratio  \n",
       "stage_at_diagnosis                                    \n",
       "CLINICAL_STAGE1                             0.990297  \n",
       "CLINICAL_STAGE2                             0.996160  \n",
       "CLINICAL_STAGE3                             0.999444  \n",
       "CLINICAL_STAGE4                             0.989972  "
      ]
     },
     "execution_count": 32,
     "metadata": {},
     "output_type": "execute_result"
    }
   ],
   "source": [
    "non_crc_survival_rates[\n",
    "    [\n",
    "        \"non_crc_five_year_survival\",\n",
    "        \"computed_non_crc_five_year_survival\",\n",
    "        \"non_crc_five_year_survival_ratio\",\n",
    "    ]\n",
    "]"
   ]
  },
  {
   "cell_type": "markdown",
   "metadata": {},
   "source": [
    "The survival rates derived from this approach are very similar to those observed in the simulation. Good sense check. This means that, given CRC survival rates by stage and death rates by year, we can calculate time-to-CRC-death distribution means!\n",
    "\n",
    "We know we can get the CRC survival rates for various demographics. Just need to confirm that we can get death rates as well. We already have some in the main simulation params, so it seems likely that we could get them for other demographic groups too."
   ]
  },
  {
   "cell_type": "markdown",
   "metadata": {},
   "source": [
    "## Step 4: putting it all together. \n",
    "\n",
    "To demonstrate how this adjustment would work, we will use the death rates for a single demographic group (black males) from our current parameters.\n",
    "\n",
    "Recall that we will hold the age-at-onset distribution constant. \n",
    "\n",
    "For simplicity, we will modify the simulated survival rates to produce a new target for the demographic group. In production, we would instead use actual survival rates for the target demographic group. [This study](https://pmc.ncbi.nlm.nih.gov/articles/PMC9835097/) doesn't have the exact rates by AJCC stages, but it states that \"overall 5-year CRC survival rates for Black Americans have been consistently 6-12% below that of White Americans\". So for now, we just modify the simulated rates by roughly that amount."
   ]
  },
  {
   "cell_type": "code",
   "execution_count": 33,
   "metadata": {},
   "outputs": [],
   "source": [
    "black_male_survival_targets = {k: v * 0.91 for k, v in simulated_survival_rates.items()}"
   ]
  },
  {
   "cell_type": "code",
   "execution_count": 34,
   "metadata": {},
   "outputs": [
    {
     "data": {
      "text/plain": [
       "{'stage1': 0.675857,\n",
       " 'stage2': 0.6303570000000001,\n",
       " 'stage3': 0.525525,\n",
       " 'stage4': 0.10601500000000001}"
      ]
     },
     "execution_count": 34,
     "metadata": {},
     "output_type": "execute_result"
    }
   ],
   "source": [
    "black_male_survival_targets"
   ]
  },
  {
   "cell_type": "code",
   "execution_count": 35,
   "metadata": {},
   "outputs": [],
   "source": [
    "black_male_non_crc_survival_rates = n_year_survival(\n",
    "    5, params[\"death_rate_black_male_rates\"]\n",
    ")"
   ]
  },
  {
   "cell_type": "code",
   "execution_count": 36,
   "metadata": {},
   "outputs": [],
   "source": [
    "black_male_non_crc_survival_overall = {\n",
    "    stage.lower().split(\"_\")[-1]: (\n",
    "        onset_distributions[stage] * black_male_non_crc_survival_rates\n",
    "    ).sum()\n",
    "    for stage in onset_distributions\n",
    "}"
   ]
  },
  {
   "cell_type": "code",
   "execution_count": 37,
   "metadata": {},
   "outputs": [
    {
     "name": "stdout",
     "output_type": "stream",
     "text": [
      "Full population non-CRC survival rates:\n",
      "{'CLINICAL_STAGE4': 0.7499765462552078, 'CLINICAL_STAGE1': 0.7778232308939725, 'CLINICAL_STAGE2': 0.768887783277248, 'CLINICAL_STAGE3': 0.7612188445712099}\n",
      "Black males non-CRC surival rates:\n",
      "{'stage4': 0.7082569301220548, 'stage1': 0.7371309175027159, 'stage2': 0.7275775500631758, 'stage3': 0.7198410573431848}\n"
     ]
    }
   ],
   "source": [
    "print(\"Full population non-CRC survival rates:\")\n",
    "print(non_crc_survival_overall)\n",
    "print(\"Black males non-CRC surival rates:\")\n",
    "print(black_male_non_crc_survival_overall)"
   ]
  },
  {
   "cell_type": "code",
   "execution_count": 38,
   "metadata": {},
   "outputs": [],
   "source": [
    "black_male_df = pd.DataFrame(\n",
    "    {\n",
    "        \"stage\": black_male_survival_targets.keys(),\n",
    "        \"overall_survival\": black_male_survival_targets.values(),\n",
    "        \"non_crc_survival\": [\n",
    "            black_male_non_crc_survival_overall[stage]\n",
    "            for stage in black_male_survival_targets\n",
    "        ],\n",
    "    }\n",
    ")"
   ]
  },
  {
   "cell_type": "code",
   "execution_count": 39,
   "metadata": {},
   "outputs": [],
   "source": [
    "# Total survival rate is the product of CRC survival rate and non-CRC survival rate\n",
    "\n",
    "black_male_df[\"crc_survival\"] = (\n",
    "    black_male_df[\"overall_survival\"] / black_male_df[\"non_crc_survival\"]\n",
    ")"
   ]
  },
  {
   "cell_type": "code",
   "execution_count": 40,
   "metadata": {},
   "outputs": [],
   "source": [
    "# Formatting stage for easier printing\n",
    "non_crc_survival_rates.index = (\n",
    "    non_crc_survival_rates.index.str.lower().str.split(\"_\").str[-1]\n",
    ")"
   ]
  },
  {
   "cell_type": "code",
   "execution_count": 41,
   "metadata": {},
   "outputs": [
    {
     "name": "stdout",
     "output_type": "stream",
     "text": [
      "STAGE1\n",
      "----------\n",
      "Full Population\n",
      "\tSimulated survival rate: 0.7427\n",
      "\tCRC survival rate: 0.9641998346196251\n",
      "\tTime-to-CRC-death dist mean: 135\n",
      "Black Males\n",
      "\tTarget survival rate: 0.675857\n",
      "\tCRC survival rate: 0.9168751221149396\n",
      "\tTime-to-CRC-death dist mean: 57.61430884344316\n",
      "\n",
      "STAGE2\n",
      "----------\n",
      "Full Population\n",
      "\tSimulated survival rate: 0.6927\n",
      "\tCRC survival rate: 0.9043846964913326\n",
      "\tTime-to-CRC-death dist mean: 51\n",
      "Black Males\n",
      "\tTarget survival rate: 0.6303570000000001\n",
      "\tCRC survival rate: 0.866377748935857\n",
      "\tTime-to-CRC-death dist mean: 34.859173789415095\n",
      "\n",
      "STAGE3\n",
      "----------\n",
      "Full Population\n",
      "\tSimulated survival rate: 0.5775\n",
      "\tCRC survival rate: 0.7590741511318243\n",
      "\tTime-to-CRC-death dist mean: 19\n",
      "Black Males\n",
      "\tTarget survival rate: 0.525525\n",
      "\tCRC survival rate: 0.7300569961091502\n",
      "\tTime-to-CRC-death dist mean: 15.891547383493887\n",
      "\n",
      "STAGE4\n",
      "----------\n",
      "Full Population\n",
      "\tSimulated survival rate: 0.1165\n",
      "\tCRC survival rate: 0.15691173736690892\n",
      "\tTime-to-CRC-death dist mean: 2.7\n",
      "Black Males\n",
      "\tTarget survival rate: 0.10601500000000001\n",
      "\tCRC survival rate: 0.1496843807539311\n",
      "\tTime-to-CRC-death dist mean: 2.632650949004953\n",
      "\n"
     ]
    }
   ],
   "source": [
    "for index, row in black_male_df.iterrows():\n",
    "    stage = row[\"stage\"]\n",
    "    print(stage.upper())\n",
    "    print(\"----------\")\n",
    "    print(\"Full Population\")\n",
    "    print(\"\\tSimulated survival rate:\", simulated_survival_rates[stage])\n",
    "    full_pop_mean = params[f\"mean_duration_clin{index + 1}_dead\"]\n",
    "    print(\n",
    "        \"\\tCRC survival rate:\",\n",
    "        non_crc_survival_rates.loc[stage, \"crc_five_year_survival\"],\n",
    "    )\n",
    "    print(\"\\tTime-to-CRC-death dist mean:\", full_pop_mean)\n",
    "    print(\"Black Males\")\n",
    "    print(\"\\tTarget survival rate:\", row[\"overall_survival\"])\n",
    "    print(\"\\tCRC survival rate:\", row[\"crc_survival\"])\n",
    "    new_target_mean = mean_dist_from_surv_rate(row[\"crc_survival\"], 5)\n",
    "    print(\"\\tTime-to-CRC-death dist mean:\", new_target_mean)\n",
    "    print(\"\")"
   ]
  },
  {
   "cell_type": "markdown",
   "metadata": {},
   "source": [
    "## Addendum: Step 5: Digging into the impact of CRC onset age distributions\n",
    "\n",
    "This whole approach relies on holding the age-at-onset distribution constant.\n",
    "\n",
    "This got me to thinking - how does this assumption affect the model overall, not just in the context of adjusting CRC survival rates?\n",
    "\n",
    "### Let's start by thinking about the calibration process:\n",
    "\n",
    "- Polyp incidence\n",
    "    - Calibrated to autopsy studies from a range of eras (1963-1992).\n",
    "        - That decision was pragmatic - there aren't a lot of autopsy studies, and we used all that were available.\n",
    "    - Takes the average of all available studies for each age group.\n",
    "    - As such, can be considered somewhere in between the pre-screening and modern eras.\n",
    "- CRC incidence\n",
    "    - Calibrated to SEER data from 1975-1979, ie, the pre-screening era.\n",
    "        - That decision was made because we wanted to calibrate to a time when screening was not a factor.\n",
    "    - Affects both the transition between polyp and preclinical stages (ie, natural history) and the time to clinical detection. \n",
    "        - Clinical detection in the model is driven by symptom onset. Time to symptom onset is the distribution that we calibrate to SEER data.\n",
    "        - This controls the distribution of CRC onset ages in the absence of screening. Which is appropriate for the pre-screening era calibration targets.\n",
    "- CRC survival\n",
    "    - Calibrated to modern SEER data, ie, the screening era.\n",
    "        - That decision was made because we wanted survival rates to reflect modern treatment options.\n",
    "        - However, it also means they reflect modern screening strategies, and their effects on the age and stage distributions of CRC onset.\n",
    "- Non-CRC death\n",
    "    - Not calibrated, but drawn directly from modern census data.\n",
    "\n",
    "### Thinking through the implications:\n",
    "\n",
    "- Aside from the IRR stuff, which we handle elsewhere, it's safe to assume that underlying polyp incidence has not changed with the advent of screening.\n",
    "- Calibrating CRC incidence to the pre-screening era is a must. We can't have screening affecting our baseline incidence rates. And I think we handle it appropriately by treating the time to clinical detection in the absence of screening.\n",
    "- Calibrating CRC survival to modern data is more of a tradeoff.\n",
    "    - CRC survival rates are cause-agnostic. Ie, they include deaths due to CRC and other causes.\n",
    "        - Actual CRC survival (ie, death due to CRC) reflects modern treatment, which is good.\n",
    "        - Non-CRC survival reflects modern death tables (ie, rates of death due to other causes), which is also good.\n",
    "        - But non-CRC survival is also driven by modern age-at-onset, which is bad. \n",
    "\n",
    "### How does this affect survival calibration?\n",
    "\n",
    "- The target overall survival rate is a function of modern CRC death rates, modern non-CRC death rates, and modern age-at-onset distribution.\n",
    "- The calibrated overall survival rate is a function of calibrated CRC death rates, modern non-CRC death rates, and pre-screening age-at-onset distribution.\n",
    "- Modern age-at-onset is lower than pre-screening age-at-onset, because CRC is detected younger now thru screening. ([See figure 8](https://www.cancer.org/content/dam/cancer-org/research/cancer-facts-and-statistics/colorectal-cancer-facts-and-figures/colorectal-cancer-facts-and-figures-2023.pdf))\n",
    "- Therefore, for given non-CRC death rates, non-CRC survival rates are higher with modern age-at-onset.\n",
    "\n",
    "Let:\n",
    "\n",
    "$a = \\text{overall survival rate}$\n",
    "\n",
    "$c = \\text{CRC survival rate}$, which is determined by the exponential distribution of mean $\\mu$ as $c = e^{-\\frac{k}{\\mu}}$, where $k$ is the k-year survival rate.\n",
    "\n",
    "$B = \\text{non-CRC survival rates} = [b_1, b_2, \\ldots, b_n]$\n",
    "\n",
    "$\\theta = \\text{age-at-onset distribution} = [\\theta_1, \\theta_2, \\ldots, \\theta_n]$, where $\\sum (\\theta) = 1$.\n",
    "\n",
    "We are calibrating such that $\\hat{a} \\approx a$, where $\\hat{a}$ is the calibrated survival rate and $a$ is the overall survival rate target.\n",
    "\n",
    "$c_c (B_m \\cdot \\theta_p) \\approx c_m (B_m \\cdot \\theta_m)$\n",
    "\n",
    "Where $c$ denotes calibrated, $p$ denotes pre-screening era, and $m$ denotes modern era.\n",
    "\n",
    "$(B_m \\cdot \\theta_p) < (B_m \\cdot \\theta_m)$\n",
    "(non-CRC survival rates are higher with modern age-at-onset)\n",
    "\n",
    "Therefore,\n",
    "\n",
    "$C_c > C_m$\n",
    "(CRC survival rates are lower with modern age-at-onset)\n",
    "\n",
    "So, $\\mu_c > \\mu_m$ (Our calibrated time-to-CRC-death distribution means are higher than the modern time-to-CRC-death distribution means).\n",
    "\n",
    "### A better way\n",
    "\n",
    "Instead of calibrating to $a$, find $c$ by\n",
    "\n",
    "$a = c (B_m \\cdot \\theta_m)$\n",
    "\n",
    "$c = \\frac{a}{B_m \\cdot \\theta_m}$\n",
    "\n",
    "This would require us knowing $\\theta_m$, i.e., finding the modern age-at-onset distribution from SEER or a paper.\n"
   ]
  },
  {
   "cell_type": "markdown",
   "metadata": {},
   "source": [
    "## Second Addendum: Step 6: testing computation from relative survival rates\n",
    "\n",
    "Thus far, we have calibrated our model to overall survival rates (ie, unadjusted survival from death of any cause).\n",
    "\n",
    "In the literature, relative survival rates are more common. These are estimates of survival from CRC death, adjusted for the competing risk caused by non-CRC death. \n",
    "\n",
    "We've avoided calibrating to these thus far because computing relative survival is complex, and we don't include it in the standard model output. \n",
    "\n",
    "Now that we have worked out the formula to compute time-to-death distribution means from survival rates, let's see if we can do this for relative survival rates rather than overall. That would avoid the complexity of handling non-CRC deaths with the population death tables. "
   ]
  },
  {
   "cell_type": "code",
   "execution_count": 42,
   "metadata": {},
   "outputs": [],
   "source": [
    "# Using relative survival rates that we saved during the 2022 calibration as potential targets.\n",
    "# These are from 2004-2014, so not exactly the same time as the overall survival rates we ended up calibrating to.\n",
    "# So we'd expect some difference from that, but we'll start by comparing these survival rates to the time-to-death\n",
    "# distribution means that produced the calibrated overall survival rates.\n",
    "#\n",
    "# # source: https://ascopubs.org/doi/abs/10.1200/JCO.2018.36.4_suppl.587\n",
    "\n",
    "relative_survival_rate_targets = {\n",
    "    \"stage1\": 0.917695925,\n",
    "    \"stage2\": 0.823677296,\n",
    "    \"stage3\": 0.670109907,\n",
    "    \"stage4\": 0.108236099,\n",
    "}"
   ]
  },
  {
   "cell_type": "code",
   "execution_count": 43,
   "metadata": {},
   "outputs": [
    {
     "name": "stdout",
     "output_type": "stream",
     "text": [
      "Stage 1\n",
      "Mean from relative survival computation: 58.21455068444863\n",
      "Mean from overall survival calibration: 135\n",
      "Ratio: 0.43121889395887875\n",
      "\n",
      "Stage 2\n",
      "Mean from relative survival computation: 25.776323999542846\n",
      "Mean from overall survival calibration: 51\n",
      "Ratio: 0.5054181176380951\n",
      "\n",
      "Stage 3\n",
      "Mean from relative survival computation: 12.490209556990287\n",
      "Mean from overall survival calibration: 19\n",
      "Ratio: 0.6573794503679098\n",
      "\n",
      "Stage 4\n",
      "Mean from relative survival computation: 2.248767335436035\n",
      "Mean from overall survival calibration: 2.7\n",
      "Ratio: 0.8328767909022351\n",
      "\n"
     ]
    }
   ],
   "source": [
    "for stage in [1, 2, 3, 4]:\n",
    "    print(f\"Stage {stage}\")\n",
    "    relative_mean = mean_dist_from_surv_rate(\n",
    "        relative_survival_rate_targets[f\"stage{stage}\"], 5\n",
    "    )\n",
    "    print(\"Mean from relative survival computation:\", relative_mean)\n",
    "    actual_mean = params[f\"mean_duration_clin{stage}_dead\"]\n",
    "    print(\"Mean from overall survival calibration:\", actual_mean)\n",
    "    print(\"Ratio:\", relative_mean / actual_mean)\n",
    "    print(\"\")"
   ]
  },
  {
   "cell_type": "markdown",
   "metadata": {},
   "source": [
    "Computing means from relative survival rates gives us much lower means than our calibrated values.\n",
    "\n",
    "Possible explanations:\n",
    "1. Underestimation of CRC deaths in model calibration (see prior section)\n",
    "1. Time difference (Survival could have been somewhat lower in 2004-14. Not this much, but it could account for some of the difference.)\n",
    "1. Some other factor I'm missing\n",
    "\n",
    "### Let's try another experiment\n",
    "\n",
    "For an honest comparison, we need relative survival rates, overall survival rates, and death tables for the same period. \n",
    "\n",
    "#### TODO: this remains incomplete. Need age-at-onset dist from same era for honest distribution."
   ]
  },
  {
   "cell_type": "code",
   "execution_count": null,
   "metadata": {},
   "outputs": [],
   "source": [
    "# 5 Year Survival\n",
    "# Surveillance, Epidemiology, and End Results (SEER) Program (www.seer.cancer.gov) SEER*Stat Database: Incidence - SEER Research Data, 17 Registries, Nov 2023 Sub (2000-2021) - Linked To County Attributes - Time Dependent (1990-2022) Income/Rurality, 1969-2022 Counties, National Cancer Institute, DCCPS, Surveillance Research Program, released April 2024, based on the November 2023 submission.\n",
    "# Includes Cases Diagnosed in 2013-2019\n",
    "\n",
    "target_compare_df = pd.DataFrame(\n",
    "    {\n",
    "        \"stage\": relative_survival_rate_targets.keys(),\n",
    "        \"relative_survival_rate\": [0.931, 0.851, 0.698, 0.137],\n",
    "        \"overall_survival_rate\": [0.821, 0.721, 0.62, 0.125],\n",
    "    }\n",
    ")"
   ]
  },
  {
   "cell_type": "code",
   "execution_count": null,
   "metadata": {},
   "outputs": [],
   "source": [
    "# National Vital Statistics Reports, Volume 72, Number 12 November 7, 2023\n",
    "# United States Life Tables, 2021\n",
    "\n",
    "target_compare_death_rates = [\n",
    "    0.005446,\n",
    "    0.000403,\n",
    "    0.000254,\n",
    "    0.000192,\n",
    "    0.000161,\n",
    "    0.000143,\n",
    "    0.000130,\n",
    "    0.000119,\n",
    "    0.000107,\n",
    "    0.000095,\n",
    "    0.000090,\n",
    "    0.000100,\n",
    "    0.000136,\n",
    "    0.000205,\n",
    "    0.000299,\n",
    "    0.000405,\n",
    "    0.000513,\n",
    "    0.000623,\n",
    "    0.000731,\n",
    "    0.000837,\n",
    "    0.000949,\n",
    "    0.001065,\n",
    "    0.001170,\n",
    "    0.001259,\n",
    "    0.001335,\n",
    "    0.001406,\n",
    "    0.001480,\n",
    "    0.001560,\n",
    "    0.001651,\n",
    "    0.001749,\n",
    "    0.001849,\n",
    "    0.001947,\n",
    "    0.002040,\n",
    "    0.002128,\n",
    "    0.002216,\n",
    "    0.002308,\n",
    "    0.002409,\n",
    "    0.002519,\n",
    "    0.002638,\n",
    "    0.002768,\n",
    "    0.002916,\n",
    "    0.003078,\n",
    "    0.003244,\n",
    "    0.003410,\n",
    "    0.003587,\n",
    "    0.003792,\n",
    "    0.004036,\n",
    "    0.004315,\n",
    "    0.004625,\n",
    "    0.004959,\n",
    "    0.005308,\n",
    "    0.005686,\n",
    "    0.006118,\n",
    "    0.006620,\n",
    "    0.007184,\n",
    "    0.007766,\n",
    "    0.008369,\n",
    "    0.009042,\n",
    "    0.009795,\n",
    "    0.010606,\n",
    "    0.011467,\n",
    "    0.012333,\n",
    "    0.013173,\n",
    "    0.013981,\n",
    "    0.014798,\n",
    "    0.015666,\n",
    "    0.016726,\n",
    "    0.017853,\n",
    "    0.019122,\n",
    "    0.020526,\n",
    "    0.021919,\n",
    "    0.023536,\n",
    "    0.025372,\n",
    "    0.027616,\n",
    "    0.029889,\n",
    "    0.033726,\n",
    "    0.036933,\n",
    "    0.041016,\n",
    "    0.044758,\n",
    "    0.049530,\n",
    "    0.054120,\n",
    "    0.059483,\n",
    "    0.065401,\n",
    "    0.072224,\n",
    "    0.080609,\n",
    "    0.089139,\n",
    "    0.099586,\n",
    "    0.111021,\n",
    "    0.123484,\n",
    "    0.137001,\n",
    "    0.151584,\n",
    "    0.167229,\n",
    "    0.183913,\n",
    "    0.201590,\n",
    "    0.220190,\n",
    "    0.239623,\n",
    "    0.259772,\n",
    "    0.280504,\n",
    "    0.301662,\n",
    "    0.323082,\n",
    "    1,\n",
    "]"
   ]
  },
  {
   "cell_type": "code",
   "execution_count": null,
   "metadata": {},
   "outputs": [],
   "source": [
    "# TODO: replace with current onset distributions\n",
    "\n",
    "onset_distributions = pd.DataFrame(\n",
    "    {k.lower().split(\"_\")[-1]: v for k, v in onset_distributions.items()}\n",
    ")"
   ]
  },
  {
   "cell_type": "code",
   "execution_count": 54,
   "metadata": {},
   "outputs": [],
   "source": [
    "weighted_non_crc_survival = {\n",
    "    k: sum(v * n_year_survival(5, target_compare_death_rates))\n",
    "    for k, v in onset_distributions.items()\n",
    "}"
   ]
  },
  {
   "cell_type": "code",
   "execution_count": 55,
   "metadata": {},
   "outputs": [],
   "source": [
    "target_compare_df[\"weighted_non_crc_survival\"] = target_compare_df[\"stage\"].map(\n",
    "    weighted_non_crc_survival\n",
    ")"
   ]
  },
  {
   "cell_type": "code",
   "execution_count": 56,
   "metadata": {},
   "outputs": [],
   "source": [
    "target_compare_df[\"relative_mean\"] = target_compare_df[\"relative_survival_rate\"].apply(\n",
    "    lambda x: mean_dist_from_surv_rate(x, 5)\n",
    ")"
   ]
  },
  {
   "cell_type": "code",
   "execution_count": 57,
   "metadata": {},
   "outputs": [],
   "source": [
    "target_compare_df[\"computed_cause_specific_survival\"] = (\n",
    "    target_compare_df[\"overall_survival_rate\"]\n",
    "    / target_compare_df[\"weighted_non_crc_survival\"]\n",
    ")"
   ]
  },
  {
   "cell_type": "code",
   "execution_count": 58,
   "metadata": {},
   "outputs": [],
   "source": [
    "target_compare_df[\"overall_mean\"] = target_compare_df[\n",
    "    \"computed_cause_specific_survival\"\n",
    "].apply(lambda x: mean_dist_from_surv_rate(x, 5))"
   ]
  },
  {
   "cell_type": "code",
   "execution_count": null,
   "metadata": {},
   "outputs": [],
   "source": []
  }
 ],
 "metadata": {
  "kernelspec": {
   "display_name": "crcsim",
   "language": "python",
   "name": "python3"
  },
  "language_info": {
   "codemirror_mode": {
    "name": "ipython",
    "version": 3
   },
   "file_extension": ".py",
   "mimetype": "text/x-python",
   "name": "python",
   "nbconvert_exporter": "python",
   "pygments_lexer": "ipython3",
   "version": "3.11.5"
  }
 },
 "nbformat": 4,
 "nbformat_minor": 2
}
